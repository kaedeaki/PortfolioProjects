{
 "cells": [
  {
   "cell_type": "markdown",
   "metadata": {
    "id": "BL_LfsVn_bv1"
   },
   "source": [
    "# Foundations of Data Science Project - Diabetes Analysis\n",
    "\n",
    "---------------\n",
    "## Context\n",
    "---------------\n",
    "\n",
    "Diabetes is one of the most frequent diseases worldwide and the number of diabetic patients are growing over the years. The main cause of diabetes remains unknown, yet scientists believe that both genetic factors and environmental lifestyle play a major role in diabetes.\n",
    "\n",
    "A few years ago research was done on a tribe in America which is called the Pima tribe (also known as the Pima Indians). In this tribe, it was found that the ladies are prone to diabetes very early. Several constraints were placed on the selection of these instances from a larger database. In particular, all patients were females at least 21 years old of Pima Indian heritage. \n",
    "\n",
    "-----------------\n",
    "## Objective\n",
    "-----------------\n",
    "\n",
    "Here, we are analyzing different aspects of Diabetes in the Pima Indians tribe by doing Exploratory Data Analysis.\n",
    "\n",
    "-------------------------\n",
    "## Data Dictionary\n",
    "-------------------------\n",
    "\n",
    "The dataset has the following information:\n",
    "\n",
    "* Pregnancies: Number of times pregnant\n",
    "* Glucose: Plasma glucose concentration over 2 hours in an oral glucose tolerance test\n",
    "* BloodPressure: Diastolic blood pressure (mm Hg)\n",
    "* SkinThickness: Triceps skin fold thickness (mm)\n",
    "* Insulin: 2-Hour serum insulin (mu U/ml)\n",
    "* BMI: Body mass index (weight in kg/(height in m)^2)\n",
    "* DiabetesPedigreeFunction: A function that scores the likelihood of diabetes based on family history.\n",
    "* Age: Age in years\n",
    "* Outcome: Class variable (0: a person is not diabetic or 1: a person is diabetic)"
   ]
  },
  {
   "cell_type": "markdown",
   "metadata": {
    "id": "vVR3oeVo_bv5"
   },
   "source": [
    "## Q 1: Import the necessary libraries and briefly explain the use of each library (3 Marks)"
   ]
  },
  {
   "cell_type": "code",
   "execution_count": 2,
   "metadata": {
    "id": "sQPI1Bzz_bv5"
   },
   "outputs": [],
   "source": [
    "# Remove _____ & write the appropriate library name\n",
    "\n",
    "import numpy as np\n",
    "\n",
    "import pandas as pd\n",
    "\n",
    "import seaborn as sns\n",
    "\n",
    "import matplotlib.pyplot as plt\n",
    "\n",
    "%matplotlib inline"
   ]
  },
  {
   "cell_type": "markdown",
   "metadata": {
    "id": "OV6ExTxy_bv6"
   },
   "source": [
    "#### Write your Answer here: "
   ]
  },
  {
   "cell_type": "markdown",
   "metadata": {
    "id": "mMa-2YFV_bv7"
   },
   "source": [
    "Ans 1: numpy is used for working with arrays.\n",
    "pandas is used to analyze data and data manipulation.\n",
    "seaborn is used for data visualization and exploratory data analysis.\n",
    "matplotlib is for creating static, visualizing data, and plotting graph. "
   ]
  },
  {
   "cell_type": "markdown",
   "metadata": {
    "id": "8WpI8LC7_bv7"
   },
   "source": [
    "## Q 2: Read the given dataset (2 Marks)"
   ]
  },
  {
   "cell_type": "code",
   "execution_count": 3,
   "metadata": {
    "id": "OTzXe_vA_bv7"
   },
   "outputs": [],
   "source": [
    "# Remove _____ & write the appropriate function name\n",
    "\n",
    "pima = pd.read_csv('C:/Users/Madoka/MIT_data_science/project1/diabetes.csv')"
   ]
  },
  {
   "cell_type": "markdown",
   "metadata": {
    "id": "H3SziaVY_bv8"
   },
   "source": [
    "## Q3. Show the last 10 records of the dataset. How many columns are there? (2 Marks)"
   ]
  },
  {
   "cell_type": "code",
   "execution_count": 4,
   "metadata": {
    "id": "c4UHQy0q_bv8",
    "scrolled": true
   },
   "outputs": [
    {
     "data": {
      "text/html": [
       "<div>\n",
       "<style scoped>\n",
       "    .dataframe tbody tr th:only-of-type {\n",
       "        vertical-align: middle;\n",
       "    }\n",
       "\n",
       "    .dataframe tbody tr th {\n",
       "        vertical-align: top;\n",
       "    }\n",
       "\n",
       "    .dataframe thead th {\n",
       "        text-align: right;\n",
       "    }\n",
       "</style>\n",
       "<table border=\"1\" class=\"dataframe\">\n",
       "  <thead>\n",
       "    <tr style=\"text-align: right;\">\n",
       "      <th></th>\n",
       "      <th>Pregnancies</th>\n",
       "      <th>Glucose</th>\n",
       "      <th>BloodPressure</th>\n",
       "      <th>SkinThickness</th>\n",
       "      <th>Insulin</th>\n",
       "      <th>BMI</th>\n",
       "      <th>DiabetesPedigreeFunction</th>\n",
       "      <th>Age</th>\n",
       "      <th>Outcome</th>\n",
       "    </tr>\n",
       "  </thead>\n",
       "  <tbody>\n",
       "    <tr>\n",
       "      <th>758</th>\n",
       "      <td>1</td>\n",
       "      <td>106</td>\n",
       "      <td>76</td>\n",
       "      <td>20</td>\n",
       "      <td>79</td>\n",
       "      <td>37.5</td>\n",
       "      <td>0.197</td>\n",
       "      <td>26</td>\n",
       "      <td>0</td>\n",
       "    </tr>\n",
       "    <tr>\n",
       "      <th>759</th>\n",
       "      <td>6</td>\n",
       "      <td>190</td>\n",
       "      <td>92</td>\n",
       "      <td>20</td>\n",
       "      <td>79</td>\n",
       "      <td>35.5</td>\n",
       "      <td>0.278</td>\n",
       "      <td>66</td>\n",
       "      <td>1</td>\n",
       "    </tr>\n",
       "    <tr>\n",
       "      <th>760</th>\n",
       "      <td>2</td>\n",
       "      <td>88</td>\n",
       "      <td>58</td>\n",
       "      <td>26</td>\n",
       "      <td>16</td>\n",
       "      <td>28.4</td>\n",
       "      <td>0.766</td>\n",
       "      <td>22</td>\n",
       "      <td>0</td>\n",
       "    </tr>\n",
       "    <tr>\n",
       "      <th>761</th>\n",
       "      <td>9</td>\n",
       "      <td>170</td>\n",
       "      <td>74</td>\n",
       "      <td>31</td>\n",
       "      <td>79</td>\n",
       "      <td>44.0</td>\n",
       "      <td>0.403</td>\n",
       "      <td>43</td>\n",
       "      <td>1</td>\n",
       "    </tr>\n",
       "    <tr>\n",
       "      <th>762</th>\n",
       "      <td>9</td>\n",
       "      <td>89</td>\n",
       "      <td>62</td>\n",
       "      <td>20</td>\n",
       "      <td>79</td>\n",
       "      <td>22.5</td>\n",
       "      <td>0.142</td>\n",
       "      <td>33</td>\n",
       "      <td>0</td>\n",
       "    </tr>\n",
       "    <tr>\n",
       "      <th>763</th>\n",
       "      <td>10</td>\n",
       "      <td>101</td>\n",
       "      <td>76</td>\n",
       "      <td>48</td>\n",
       "      <td>180</td>\n",
       "      <td>32.9</td>\n",
       "      <td>0.171</td>\n",
       "      <td>63</td>\n",
       "      <td>0</td>\n",
       "    </tr>\n",
       "    <tr>\n",
       "      <th>764</th>\n",
       "      <td>2</td>\n",
       "      <td>122</td>\n",
       "      <td>70</td>\n",
       "      <td>27</td>\n",
       "      <td>79</td>\n",
       "      <td>36.8</td>\n",
       "      <td>0.340</td>\n",
       "      <td>27</td>\n",
       "      <td>0</td>\n",
       "    </tr>\n",
       "    <tr>\n",
       "      <th>765</th>\n",
       "      <td>5</td>\n",
       "      <td>121</td>\n",
       "      <td>72</td>\n",
       "      <td>23</td>\n",
       "      <td>112</td>\n",
       "      <td>26.2</td>\n",
       "      <td>0.245</td>\n",
       "      <td>30</td>\n",
       "      <td>0</td>\n",
       "    </tr>\n",
       "    <tr>\n",
       "      <th>766</th>\n",
       "      <td>1</td>\n",
       "      <td>126</td>\n",
       "      <td>60</td>\n",
       "      <td>20</td>\n",
       "      <td>79</td>\n",
       "      <td>30.1</td>\n",
       "      <td>0.349</td>\n",
       "      <td>47</td>\n",
       "      <td>1</td>\n",
       "    </tr>\n",
       "    <tr>\n",
       "      <th>767</th>\n",
       "      <td>1</td>\n",
       "      <td>93</td>\n",
       "      <td>70</td>\n",
       "      <td>31</td>\n",
       "      <td>79</td>\n",
       "      <td>30.4</td>\n",
       "      <td>0.315</td>\n",
       "      <td>23</td>\n",
       "      <td>0</td>\n",
       "    </tr>\n",
       "  </tbody>\n",
       "</table>\n",
       "</div>"
      ],
      "text/plain": [
       "     Pregnancies  Glucose  BloodPressure  SkinThickness  Insulin   BMI  \\\n",
       "758            1      106             76             20       79  37.5   \n",
       "759            6      190             92             20       79  35.5   \n",
       "760            2       88             58             26       16  28.4   \n",
       "761            9      170             74             31       79  44.0   \n",
       "762            9       89             62             20       79  22.5   \n",
       "763           10      101             76             48      180  32.9   \n",
       "764            2      122             70             27       79  36.8   \n",
       "765            5      121             72             23      112  26.2   \n",
       "766            1      126             60             20       79  30.1   \n",
       "767            1       93             70             31       79  30.4   \n",
       "\n",
       "     DiabetesPedigreeFunction  Age  Outcome  \n",
       "758                     0.197   26        0  \n",
       "759                     0.278   66        1  \n",
       "760                     0.766   22        0  \n",
       "761                     0.403   43        1  \n",
       "762                     0.142   33        0  \n",
       "763                     0.171   63        0  \n",
       "764                     0.340   27        0  \n",
       "765                     0.245   30        0  \n",
       "766                     0.349   47        1  \n",
       "767                     0.315   23        0  "
      ]
     },
     "execution_count": 4,
     "metadata": {},
     "output_type": "execute_result"
    }
   ],
   "source": [
    "# Remove ______ and write the appropriate number in the function\n",
    "\n",
    "pima.tail(10)"
   ]
  },
  {
   "cell_type": "markdown",
   "metadata": {
    "id": "xqzI9UYB_bv9"
   },
   "source": [
    "#### Write your Answer here: \n"
   ]
  },
  {
   "cell_type": "markdown",
   "metadata": {
    "id": "Lh7sxkKp_bv9"
   },
   "source": [
    "Ans 3:There are 9 columns except index."
   ]
  },
  {
   "cell_type": "markdown",
   "metadata": {
    "id": "xDnQFTsR_bv9"
   },
   "source": [
    "## Q4. Show the first 10 records of the dataset (2 Marks)"
   ]
  },
  {
   "cell_type": "code",
   "execution_count": 5,
   "metadata": {
    "id": "fhOmMaSn_bv-",
    "scrolled": true
   },
   "outputs": [
    {
     "data": {
      "text/html": [
       "<div>\n",
       "<style scoped>\n",
       "    .dataframe tbody tr th:only-of-type {\n",
       "        vertical-align: middle;\n",
       "    }\n",
       "\n",
       "    .dataframe tbody tr th {\n",
       "        vertical-align: top;\n",
       "    }\n",
       "\n",
       "    .dataframe thead th {\n",
       "        text-align: right;\n",
       "    }\n",
       "</style>\n",
       "<table border=\"1\" class=\"dataframe\">\n",
       "  <thead>\n",
       "    <tr style=\"text-align: right;\">\n",
       "      <th></th>\n",
       "      <th>Pregnancies</th>\n",
       "      <th>Glucose</th>\n",
       "      <th>BloodPressure</th>\n",
       "      <th>SkinThickness</th>\n",
       "      <th>Insulin</th>\n",
       "      <th>BMI</th>\n",
       "      <th>DiabetesPedigreeFunction</th>\n",
       "      <th>Age</th>\n",
       "      <th>Outcome</th>\n",
       "    </tr>\n",
       "  </thead>\n",
       "  <tbody>\n",
       "    <tr>\n",
       "      <th>0</th>\n",
       "      <td>6</td>\n",
       "      <td>148</td>\n",
       "      <td>72</td>\n",
       "      <td>35</td>\n",
       "      <td>79</td>\n",
       "      <td>33.600000</td>\n",
       "      <td>0.627</td>\n",
       "      <td>50</td>\n",
       "      <td>1</td>\n",
       "    </tr>\n",
       "    <tr>\n",
       "      <th>1</th>\n",
       "      <td>1</td>\n",
       "      <td>85</td>\n",
       "      <td>66</td>\n",
       "      <td>29</td>\n",
       "      <td>79</td>\n",
       "      <td>26.600000</td>\n",
       "      <td>0.351</td>\n",
       "      <td>31</td>\n",
       "      <td>0</td>\n",
       "    </tr>\n",
       "    <tr>\n",
       "      <th>2</th>\n",
       "      <td>8</td>\n",
       "      <td>183</td>\n",
       "      <td>64</td>\n",
       "      <td>20</td>\n",
       "      <td>79</td>\n",
       "      <td>23.300000</td>\n",
       "      <td>0.672</td>\n",
       "      <td>32</td>\n",
       "      <td>1</td>\n",
       "    </tr>\n",
       "    <tr>\n",
       "      <th>3</th>\n",
       "      <td>1</td>\n",
       "      <td>89</td>\n",
       "      <td>66</td>\n",
       "      <td>23</td>\n",
       "      <td>94</td>\n",
       "      <td>28.100000</td>\n",
       "      <td>0.167</td>\n",
       "      <td>21</td>\n",
       "      <td>0</td>\n",
       "    </tr>\n",
       "    <tr>\n",
       "      <th>4</th>\n",
       "      <td>0</td>\n",
       "      <td>137</td>\n",
       "      <td>40</td>\n",
       "      <td>35</td>\n",
       "      <td>168</td>\n",
       "      <td>43.100000</td>\n",
       "      <td>2.288</td>\n",
       "      <td>33</td>\n",
       "      <td>1</td>\n",
       "    </tr>\n",
       "    <tr>\n",
       "      <th>5</th>\n",
       "      <td>5</td>\n",
       "      <td>116</td>\n",
       "      <td>74</td>\n",
       "      <td>20</td>\n",
       "      <td>79</td>\n",
       "      <td>25.600000</td>\n",
       "      <td>0.201</td>\n",
       "      <td>30</td>\n",
       "      <td>0</td>\n",
       "    </tr>\n",
       "    <tr>\n",
       "      <th>6</th>\n",
       "      <td>3</td>\n",
       "      <td>78</td>\n",
       "      <td>50</td>\n",
       "      <td>32</td>\n",
       "      <td>88</td>\n",
       "      <td>31.000000</td>\n",
       "      <td>0.248</td>\n",
       "      <td>26</td>\n",
       "      <td>1</td>\n",
       "    </tr>\n",
       "    <tr>\n",
       "      <th>7</th>\n",
       "      <td>10</td>\n",
       "      <td>115</td>\n",
       "      <td>69</td>\n",
       "      <td>20</td>\n",
       "      <td>79</td>\n",
       "      <td>35.300000</td>\n",
       "      <td>0.134</td>\n",
       "      <td>29</td>\n",
       "      <td>0</td>\n",
       "    </tr>\n",
       "    <tr>\n",
       "      <th>8</th>\n",
       "      <td>2</td>\n",
       "      <td>197</td>\n",
       "      <td>70</td>\n",
       "      <td>45</td>\n",
       "      <td>543</td>\n",
       "      <td>30.500000</td>\n",
       "      <td>0.158</td>\n",
       "      <td>53</td>\n",
       "      <td>1</td>\n",
       "    </tr>\n",
       "    <tr>\n",
       "      <th>9</th>\n",
       "      <td>8</td>\n",
       "      <td>125</td>\n",
       "      <td>96</td>\n",
       "      <td>20</td>\n",
       "      <td>79</td>\n",
       "      <td>31.992578</td>\n",
       "      <td>0.232</td>\n",
       "      <td>54</td>\n",
       "      <td>1</td>\n",
       "    </tr>\n",
       "  </tbody>\n",
       "</table>\n",
       "</div>"
      ],
      "text/plain": [
       "   Pregnancies  Glucose  BloodPressure  SkinThickness  Insulin        BMI  \\\n",
       "0            6      148             72             35       79  33.600000   \n",
       "1            1       85             66             29       79  26.600000   \n",
       "2            8      183             64             20       79  23.300000   \n",
       "3            1       89             66             23       94  28.100000   \n",
       "4            0      137             40             35      168  43.100000   \n",
       "5            5      116             74             20       79  25.600000   \n",
       "6            3       78             50             32       88  31.000000   \n",
       "7           10      115             69             20       79  35.300000   \n",
       "8            2      197             70             45      543  30.500000   \n",
       "9            8      125             96             20       79  31.992578   \n",
       "\n",
       "   DiabetesPedigreeFunction  Age  Outcome  \n",
       "0                     0.627   50        1  \n",
       "1                     0.351   31        0  \n",
       "2                     0.672   32        1  \n",
       "3                     0.167   21        0  \n",
       "4                     2.288   33        1  \n",
       "5                     0.201   30        0  \n",
       "6                     0.248   26        1  \n",
       "7                     0.134   29        0  \n",
       "8                     0.158   53        1  \n",
       "9                     0.232   54        1  "
      ]
     },
     "execution_count": 5,
     "metadata": {},
     "output_type": "execute_result"
    }
   ],
   "source": [
    "# Remove _____ & write the appropriate function name and the number of rows to get in the output\n",
    "\n",
    "pima.head(10)"
   ]
  },
  {
   "cell_type": "markdown",
   "metadata": {
    "id": "OzzsF3Pg_bv-"
   },
   "source": [
    "## Q5. What do you understand by the dimension of the dataset? Find the dimension of the `pima` dataframe. (3 Marks)"
   ]
  },
  {
   "cell_type": "code",
   "execution_count": 6,
   "metadata": {
    "id": "9QQGBlaw_bv-"
   },
   "outputs": [
    {
     "data": {
      "text/plain": [
       "(768, 9)"
      ]
     },
     "execution_count": 6,
     "metadata": {},
     "output_type": "execute_result"
    }
   ],
   "source": [
    "# Remove _____ & write the appropriate function name\n",
    "\n",
    "pima.shape"
   ]
  },
  {
   "cell_type": "markdown",
   "metadata": {
    "id": "5_7DfrKa_bv_"
   },
   "source": [
    "#### Write your Answer here: \n"
   ]
  },
  {
   "cell_type": "markdown",
   "metadata": {
    "id": "WW0P9jMc_bv_"
   },
   "source": [
    "Ans 5:There are 768 rows and 9 columns. I understand there are 768 samples(rows) and 9 variables(columns)."
   ]
  },
  {
   "cell_type": "markdown",
   "metadata": {
    "id": "V5duvKqA_bv_"
   },
   "source": [
    "## Q6. What do you understand by the size of the dataset? Find the size of the `pima` dataframe. (3 Marks)"
   ]
  },
  {
   "cell_type": "code",
   "execution_count": 7,
   "metadata": {
    "id": "yX1yh0Bx_bv_"
   },
   "outputs": [
    {
     "data": {
      "text/plain": [
       "6912"
      ]
     },
     "execution_count": 7,
     "metadata": {},
     "output_type": "execute_result"
    }
   ],
   "source": [
    "# Remove _____ & write the appropriate function name\n",
    "\n",
    "pima.size"
   ]
  },
  {
   "cell_type": "markdown",
   "metadata": {
    "id": "oILSLGBL_bwA"
   },
   "source": [
    "#### Write your Answer here: \n"
   ]
  },
  {
   "cell_type": "markdown",
   "metadata": {
    "id": "zdtFn47Q_bwA"
   },
   "source": [
    "Ans 6:the size of dataset is 6912. This is 768 rows * 9 columns = 6912."
   ]
  },
  {
   "cell_type": "markdown",
   "metadata": {
    "id": "DyG29Cqz_bwA"
   },
   "source": [
    "## Q7. What are the data types of all the variables in the data set? (2 Marks)\n",
    "**Hint: Use the info() function to get all the information about the dataset.**"
   ]
  },
  {
   "cell_type": "code",
   "execution_count": 8,
   "metadata": {
    "id": "INEhm7-M_bwA"
   },
   "outputs": [
    {
     "name": "stdout",
     "output_type": "stream",
     "text": [
      "<class 'pandas.core.frame.DataFrame'>\n",
      "RangeIndex: 768 entries, 0 to 767\n",
      "Data columns (total 9 columns):\n",
      " #   Column                    Non-Null Count  Dtype  \n",
      "---  ------                    --------------  -----  \n",
      " 0   Pregnancies               768 non-null    int64  \n",
      " 1   Glucose                   768 non-null    int64  \n",
      " 2   BloodPressure             768 non-null    int64  \n",
      " 3   SkinThickness             768 non-null    int64  \n",
      " 4   Insulin                   768 non-null    int64  \n",
      " 5   BMI                       768 non-null    float64\n",
      " 6   DiabetesPedigreeFunction  768 non-null    float64\n",
      " 7   Age                       768 non-null    int64  \n",
      " 8   Outcome                   768 non-null    int64  \n",
      "dtypes: float64(2), int64(7)\n",
      "memory usage: 54.1 KB\n"
     ]
    }
   ],
   "source": [
    "# Remove _____ & write the appropriate function name\n",
    "\n",
    "pima.info()"
   ]
  },
  {
   "cell_type": "markdown",
   "metadata": {
    "id": "OqnMczju_bwB"
   },
   "source": [
    "#### Write your Answer here: \n"
   ]
  },
  {
   "cell_type": "markdown",
   "metadata": {
    "id": "RdARzto8_bwB"
   },
   "source": [
    "Ans 7:The data types of all varialbles are int64 except BMI and DiabetesPedigreeFunction. The data types of BMI and DiabetesPedigreeFunction are float64."
   ]
  },
  {
   "cell_type": "markdown",
   "metadata": {
    "id": "wHYJkmek_bwB"
   },
   "source": [
    "## Q8. What do we mean by missing values? Are there any missing values in the `pima` dataframe? (4 Marks)"
   ]
  },
  {
   "cell_type": "code",
   "execution_count": 9,
   "metadata": {
    "id": "OiThIwyD_bwB"
   },
   "outputs": [
    {
     "data": {
      "text/plain": [
       "False"
      ]
     },
     "execution_count": 9,
     "metadata": {},
     "output_type": "execute_result"
    }
   ],
   "source": [
    "# Remove _____ & write the appropriate function name\n",
    "\n",
    "pima.isnull().values.any()"
   ]
  },
  {
   "cell_type": "markdown",
   "metadata": {
    "id": "CpcpowUT_bwC"
   },
   "source": [
    "#### Write your Answer here: \n"
   ]
  },
  {
   "cell_type": "markdown",
   "metadata": {
    "id": "b8D07NoL_bwC"
   },
   "source": [
    "Ans 8: We mean missing values is missing values in some point of the dataframe / data set. If there is missing value in Python, it shows \"NaN\". For example, if there is missing values in Pandas, the cells with missing value are shown \"NaN\".\n",
    "There is no missing values in the pima dataframe since the output, which is above as Q8, shows \"False\". If there is missing vaue, the code above shows \"True\" in the output."
   ]
  },
  {
   "cell_type": "markdown",
   "metadata": {
    "id": "RmTpaojz_bwC"
   },
   "source": [
    "## Q9. What do the summary statistics of the data represent? Find the summary statistics for all variables except 'Outcome' in the `pima` data. Take one column/variable from the output table and explain all its statistical measures. (5 Marks)"
   ]
  },
  {
   "cell_type": "code",
   "execution_count": 10,
   "metadata": {
    "id": "JuJBDhb-_bwC",
    "scrolled": true
   },
   "outputs": [
    {
     "data": {
      "text/html": [
       "<div>\n",
       "<style scoped>\n",
       "    .dataframe tbody tr th:only-of-type {\n",
       "        vertical-align: middle;\n",
       "    }\n",
       "\n",
       "    .dataframe tbody tr th {\n",
       "        vertical-align: top;\n",
       "    }\n",
       "\n",
       "    .dataframe thead th {\n",
       "        text-align: right;\n",
       "    }\n",
       "</style>\n",
       "<table border=\"1\" class=\"dataframe\">\n",
       "  <thead>\n",
       "    <tr style=\"text-align: right;\">\n",
       "      <th></th>\n",
       "      <th>Pregnancies</th>\n",
       "      <th>Glucose</th>\n",
       "      <th>BloodPressure</th>\n",
       "      <th>SkinThickness</th>\n",
       "      <th>Insulin</th>\n",
       "      <th>BMI</th>\n",
       "      <th>DiabetesPedigreeFunction</th>\n",
       "      <th>Age</th>\n",
       "    </tr>\n",
       "  </thead>\n",
       "  <tbody>\n",
       "    <tr>\n",
       "      <th>count</th>\n",
       "      <td>768.000000</td>\n",
       "      <td>768.000000</td>\n",
       "      <td>768.000000</td>\n",
       "      <td>768.000000</td>\n",
       "      <td>768.000000</td>\n",
       "      <td>768.000000</td>\n",
       "      <td>768.000000</td>\n",
       "      <td>768.000000</td>\n",
       "    </tr>\n",
       "    <tr>\n",
       "      <th>mean</th>\n",
       "      <td>3.845052</td>\n",
       "      <td>121.675781</td>\n",
       "      <td>72.250000</td>\n",
       "      <td>26.447917</td>\n",
       "      <td>118.270833</td>\n",
       "      <td>32.450805</td>\n",
       "      <td>0.471876</td>\n",
       "      <td>33.240885</td>\n",
       "    </tr>\n",
       "    <tr>\n",
       "      <th>std</th>\n",
       "      <td>3.369578</td>\n",
       "      <td>30.436252</td>\n",
       "      <td>12.117203</td>\n",
       "      <td>9.733872</td>\n",
       "      <td>93.243829</td>\n",
       "      <td>6.875374</td>\n",
       "      <td>0.331329</td>\n",
       "      <td>11.760232</td>\n",
       "    </tr>\n",
       "    <tr>\n",
       "      <th>min</th>\n",
       "      <td>0.000000</td>\n",
       "      <td>44.000000</td>\n",
       "      <td>24.000000</td>\n",
       "      <td>7.000000</td>\n",
       "      <td>14.000000</td>\n",
       "      <td>18.200000</td>\n",
       "      <td>0.078000</td>\n",
       "      <td>21.000000</td>\n",
       "    </tr>\n",
       "    <tr>\n",
       "      <th>25%</th>\n",
       "      <td>1.000000</td>\n",
       "      <td>99.750000</td>\n",
       "      <td>64.000000</td>\n",
       "      <td>20.000000</td>\n",
       "      <td>79.000000</td>\n",
       "      <td>27.500000</td>\n",
       "      <td>0.243750</td>\n",
       "      <td>24.000000</td>\n",
       "    </tr>\n",
       "    <tr>\n",
       "      <th>50%</th>\n",
       "      <td>3.000000</td>\n",
       "      <td>117.000000</td>\n",
       "      <td>72.000000</td>\n",
       "      <td>23.000000</td>\n",
       "      <td>79.000000</td>\n",
       "      <td>32.000000</td>\n",
       "      <td>0.372500</td>\n",
       "      <td>29.000000</td>\n",
       "    </tr>\n",
       "    <tr>\n",
       "      <th>75%</th>\n",
       "      <td>6.000000</td>\n",
       "      <td>140.250000</td>\n",
       "      <td>80.000000</td>\n",
       "      <td>32.000000</td>\n",
       "      <td>127.250000</td>\n",
       "      <td>36.600000</td>\n",
       "      <td>0.626250</td>\n",
       "      <td>41.000000</td>\n",
       "    </tr>\n",
       "    <tr>\n",
       "      <th>max</th>\n",
       "      <td>17.000000</td>\n",
       "      <td>199.000000</td>\n",
       "      <td>122.000000</td>\n",
       "      <td>99.000000</td>\n",
       "      <td>846.000000</td>\n",
       "      <td>67.100000</td>\n",
       "      <td>2.420000</td>\n",
       "      <td>81.000000</td>\n",
       "    </tr>\n",
       "  </tbody>\n",
       "</table>\n",
       "</div>"
      ],
      "text/plain": [
       "       Pregnancies     Glucose  BloodPressure  SkinThickness     Insulin  \\\n",
       "count   768.000000  768.000000     768.000000     768.000000  768.000000   \n",
       "mean      3.845052  121.675781      72.250000      26.447917  118.270833   \n",
       "std       3.369578   30.436252      12.117203       9.733872   93.243829   \n",
       "min       0.000000   44.000000      24.000000       7.000000   14.000000   \n",
       "25%       1.000000   99.750000      64.000000      20.000000   79.000000   \n",
       "50%       3.000000  117.000000      72.000000      23.000000   79.000000   \n",
       "75%       6.000000  140.250000      80.000000      32.000000  127.250000   \n",
       "max      17.000000  199.000000     122.000000      99.000000  846.000000   \n",
       "\n",
       "              BMI  DiabetesPedigreeFunction         Age  \n",
       "count  768.000000                768.000000  768.000000  \n",
       "mean    32.450805                  0.471876   33.240885  \n",
       "std      6.875374                  0.331329   11.760232  \n",
       "min     18.200000                  0.078000   21.000000  \n",
       "25%     27.500000                  0.243750   24.000000  \n",
       "50%     32.000000                  0.372500   29.000000  \n",
       "75%     36.600000                  0.626250   41.000000  \n",
       "max     67.100000                  2.420000   81.000000  "
      ]
     },
     "execution_count": 10,
     "metadata": {},
     "output_type": "execute_result"
    }
   ],
   "source": [
    "# Remove _____ & write the appropriate function name\n",
    "\n",
    "pima.iloc[: , 0 : 8].describe()"
   ]
  },
  {
   "cell_type": "markdown",
   "metadata": {
    "id": "-aYGSoyf_bwC"
   },
   "source": [
    "#### Write your Answer here: \n"
   ]
  },
  {
   "cell_type": "markdown",
   "metadata": {
    "id": "y20K1lOx_bwC"
   },
   "source": [
    "Ans 9:The summary statistics of the data provides the gist of information about the dataframe.\n",
    "I choose Pregnancies from the columns to explain all its statistical measures.\n",
    "Count: Count shows the total number of the observations. There are 768 pregnancies total in the data.\n",
    "Mean: This is average. In the mean, 3.845052 times are pregnanted per person.\n",
    "Std: Std is a measure of how much away from the mean. In this dataframe, the std is 3.369578. It means 3.369578 times disperse from mean.\n",
    "Min: This shows the minimum number of value. In this data, it is 0 time pregnancy.\n",
    "25%: It shows 25th percentile. It is the value at 25% of the data lie below that value. In this case, there is 1 time pregnancy.\n",
    "50%: It shows median which is the middle number in a sorted data. There are 3 times pregnancies. \n",
    "75%: It shows 75th percentile. It is the value at 75% of the data lie below that value.In this case, there are 6 times pregnancies.\n",
    "Max: This shows the max number of the value. In this data set, it is 17 times pregnancies.\n"
   ]
  },
  {
   "cell_type": "markdown",
   "metadata": {
    "id": "3gO4yNoS_bwD"
   },
   "source": [
    "## Q 10. Plot the distribution plot for the variable 'BloodPressure'. Write detailed observations from the plot. (2 Marks)"
   ]
  },
  {
   "cell_type": "code",
   "execution_count": 11,
   "metadata": {
    "id": "k4ulBXrW_bwD",
    "scrolled": false
   },
   "outputs": [
    {
     "data": {
      "image/png": "[encoded data removed]",
      "text/plain": [
       "<Figure size 360x360 with 1 Axes>"
      ]
     },
     "metadata": {
      "needs_background": "light"
     },
     "output_type": "display_data"
    }
   ],
   "source": [
    "# Remove _____ & write the appropriate library name\n",
    "\n",
    "sns.displot(pima['BloodPressure'], kind = 'kde')\n",
    "\n",
    "plt.show()"
   ]
  },
  {
   "cell_type": "markdown",
   "metadata": {
    "id": "tFmj2sAi_bwD"
   },
   "source": [
    "#### Write your Answer here: \n"
   ]
  },
  {
   "cell_type": "markdown",
   "metadata": {
    "id": "LGKnjmYV_bwD"
   },
   "source": [
    "Ans 10:It is almost bell curved shape that is closes to Normal Distribution that supposes to be symmetrical.But this is not Normal Distribution yet. This is because the curve of the bottoms of the bell curve is not symmetrical. And probably, median, mean, and mode are differenct values. On the other hand, in Normal Destribution, mean, median, and mode are equal. So, this plot supposes to be close value of each of them even if it's not completely symmetrical."
   ]
  },
  {
   "cell_type": "markdown",
   "metadata": {
    "id": "H82v-Oiq_bwD"
   },
   "source": [
    "## Q 11. What is the 'BMI' of the person having the highest 'Glucose'? (2 Marks)"
   ]
  },
  {
   "cell_type": "code",
   "execution_count": 12,
   "metadata": {
    "id": "-xXHlCS5_bwD"
   },
   "outputs": [
    {
     "data": {
      "text/plain": [
       "661    42.9\n",
       "Name: BMI, dtype: float64"
      ]
     },
     "execution_count": 12,
     "metadata": {},
     "output_type": "execute_result"
    }
   ],
   "source": [
    "# Remove _____ & write the appropriate function name\n",
    "\n",
    "pima[pima['Glucose'] == pima['Glucose'].max()]['BMI']"
   ]
  },
  {
   "cell_type": "markdown",
   "metadata": {
    "id": "JiUByWjP_bwE"
   },
   "source": [
    "#### Write your Answer here: \n"
   ]
  },
  {
   "cell_type": "markdown",
   "metadata": {
    "id": "pE2GYrtU_bwE"
   },
   "source": [
    "Ans 11:The person's 'BMI' who has the highest 'Glucose' is 42.9. "
   ]
  },
  {
   "cell_type": "markdown",
   "metadata": {
    "id": "0xN_VJOl_bwE"
   },
   "source": [
    "## Q12.\n",
    "### 12.1 What is the mean of the variable 'BMI'? \n",
    "### 12.2 What is the median of the variable 'BMI'? \n",
    "### 12.3 What is the mode of the variable 'BMI'?\n",
    "### 12.4 Are the three measures of central tendency equal?\n",
    "\n",
    "### (4 Marks)"
   ]
  },
  {
   "cell_type": "code",
   "execution_count": 13,
   "metadata": {
    "id": "-aKQ7UMC_bwE"
   },
   "outputs": [
    {
     "name": "stdout",
     "output_type": "stream",
     "text": [
      "32.450805155364556\n",
      "32.0\n",
      "32.0\n"
     ]
    }
   ],
   "source": [
    "# Remove _____ & write the appropriate function name\n",
    "\n",
    "m1 = pima['BMI'].mean()  # mean\n",
    "print(m1)\n",
    "\n",
    "m2 = pima['BMI'].median()  # median\n",
    "print(m2)\n",
    "\n",
    "m3 = pima['BMI'].mode()[0]  # mode\n",
    "print(m3)"
   ]
  },
  {
   "cell_type": "markdown",
   "metadata": {
    "id": "F381SOUJ_bwE"
   },
   "source": [
    "#### Write your Answer here: \n"
   ]
  },
  {
   "cell_type": "markdown",
   "metadata": {
    "id": "NNYE_suf_bwE"
   },
   "source": [
    "Ans 12:1: The mean of the variable: 32.450805155364556\n",
    "2: The median of the variable: 32.0\n",
    "3: The mode of the variable: 32.0\n",
    "4: No, the three measures of central tendency are not equal.\n",
    "The median and the mode are same value, but the mean is not same.      However, they are close all of them."
   ]
  },
  {
   "cell_type": "markdown",
   "metadata": {
    "id": "zQgUfx28_bwE"
   },
   "source": [
    "## Q13. How many women's 'Glucose' levels are above the mean level of 'Glucose'? (2 Marks)"
   ]
  },
  {
   "cell_type": "code",
   "execution_count": 14,
   "metadata": {
    "id": "elzY2lG0_bwE"
   },
   "outputs": [
    {
     "data": {
      "text/plain": [
       "343"
      ]
     },
     "execution_count": 14,
     "metadata": {},
     "output_type": "execute_result"
    }
   ],
   "source": [
    "# Remove _____ & write the appropriate function name\n",
    "\n",
    "pima[pima['Glucose'] > pima['Glucose'].mean()].shape[0]"
   ]
  },
  {
   "cell_type": "markdown",
   "metadata": {
    "id": "zNopQzBy_bwF"
   },
   "source": [
    "#### Write your Answer here: \n"
   ]
  },
  {
   "cell_type": "markdown",
   "metadata": {
    "id": "KP5Ex2Mj_bwF"
   },
   "source": [
    "Ans 13: The women who have \"Glucose' levels above the mean level of 'Glucose' are 343 women."
   ]
  },
  {
   "cell_type": "markdown",
   "metadata": {
    "id": "TUFPGMGX_bwF"
   },
   "source": [
    "## Q14. How many women have their 'BloodPressure' equal to the median of 'BloodPressure' and their 'BMI' less than the median of 'BMI'? (2 Marks)"
   ]
  },
  {
   "cell_type": "code",
   "execution_count": 15,
   "metadata": {
    "id": "wn118oGx_bwF"
   },
   "outputs": [
    {
     "data": {
      "text/html": [
       "<div>\n",
       "<style scoped>\n",
       "    .dataframe tbody tr th:only-of-type {\n",
       "        vertical-align: middle;\n",
       "    }\n",
       "\n",
       "    .dataframe tbody tr th {\n",
       "        vertical-align: top;\n",
       "    }\n",
       "\n",
       "    .dataframe thead th {\n",
       "        text-align: right;\n",
       "    }\n",
       "</style>\n",
       "<table border=\"1\" class=\"dataframe\">\n",
       "  <thead>\n",
       "    <tr style=\"text-align: right;\">\n",
       "      <th></th>\n",
       "      <th>Pregnancies</th>\n",
       "      <th>Glucose</th>\n",
       "      <th>BloodPressure</th>\n",
       "      <th>SkinThickness</th>\n",
       "      <th>Insulin</th>\n",
       "      <th>BMI</th>\n",
       "      <th>DiabetesPedigreeFunction</th>\n",
       "      <th>Age</th>\n",
       "      <th>Outcome</th>\n",
       "    </tr>\n",
       "  </thead>\n",
       "  <tbody>\n",
       "    <tr>\n",
       "      <th>14</th>\n",
       "      <td>5</td>\n",
       "      <td>166</td>\n",
       "      <td>72</td>\n",
       "      <td>19</td>\n",
       "      <td>175</td>\n",
       "      <td>25.8</td>\n",
       "      <td>0.587</td>\n",
       "      <td>51</td>\n",
       "      <td>1</td>\n",
       "    </tr>\n",
       "    <tr>\n",
       "      <th>93</th>\n",
       "      <td>4</td>\n",
       "      <td>134</td>\n",
       "      <td>72</td>\n",
       "      <td>20</td>\n",
       "      <td>79</td>\n",
       "      <td>23.8</td>\n",
       "      <td>0.277</td>\n",
       "      <td>60</td>\n",
       "      <td>1</td>\n",
       "    </tr>\n",
       "    <tr>\n",
       "      <th>103</th>\n",
       "      <td>1</td>\n",
       "      <td>81</td>\n",
       "      <td>72</td>\n",
       "      <td>18</td>\n",
       "      <td>40</td>\n",
       "      <td>26.6</td>\n",
       "      <td>0.283</td>\n",
       "      <td>24</td>\n",
       "      <td>0</td>\n",
       "    </tr>\n",
       "    <tr>\n",
       "      <th>205</th>\n",
       "      <td>5</td>\n",
       "      <td>111</td>\n",
       "      <td>72</td>\n",
       "      <td>28</td>\n",
       "      <td>79</td>\n",
       "      <td>23.9</td>\n",
       "      <td>0.407</td>\n",
       "      <td>27</td>\n",
       "      <td>0</td>\n",
       "    </tr>\n",
       "    <tr>\n",
       "      <th>299</th>\n",
       "      <td>8</td>\n",
       "      <td>112</td>\n",
       "      <td>72</td>\n",
       "      <td>20</td>\n",
       "      <td>79</td>\n",
       "      <td>23.6</td>\n",
       "      <td>0.840</td>\n",
       "      <td>58</td>\n",
       "      <td>0</td>\n",
       "    </tr>\n",
       "    <tr>\n",
       "      <th>325</th>\n",
       "      <td>1</td>\n",
       "      <td>157</td>\n",
       "      <td>72</td>\n",
       "      <td>21</td>\n",
       "      <td>168</td>\n",
       "      <td>25.6</td>\n",
       "      <td>0.123</td>\n",
       "      <td>24</td>\n",
       "      <td>0</td>\n",
       "    </tr>\n",
       "    <tr>\n",
       "      <th>330</th>\n",
       "      <td>8</td>\n",
       "      <td>118</td>\n",
       "      <td>72</td>\n",
       "      <td>19</td>\n",
       "      <td>79</td>\n",
       "      <td>23.1</td>\n",
       "      <td>1.476</td>\n",
       "      <td>46</td>\n",
       "      <td>0</td>\n",
       "    </tr>\n",
       "    <tr>\n",
       "      <th>366</th>\n",
       "      <td>6</td>\n",
       "      <td>124</td>\n",
       "      <td>72</td>\n",
       "      <td>20</td>\n",
       "      <td>79</td>\n",
       "      <td>27.6</td>\n",
       "      <td>0.368</td>\n",
       "      <td>29</td>\n",
       "      <td>1</td>\n",
       "    </tr>\n",
       "    <tr>\n",
       "      <th>380</th>\n",
       "      <td>1</td>\n",
       "      <td>107</td>\n",
       "      <td>72</td>\n",
       "      <td>30</td>\n",
       "      <td>82</td>\n",
       "      <td>30.8</td>\n",
       "      <td>0.821</td>\n",
       "      <td>24</td>\n",
       "      <td>0</td>\n",
       "    </tr>\n",
       "    <tr>\n",
       "      <th>393</th>\n",
       "      <td>4</td>\n",
       "      <td>116</td>\n",
       "      <td>72</td>\n",
       "      <td>12</td>\n",
       "      <td>87</td>\n",
       "      <td>22.1</td>\n",
       "      <td>0.463</td>\n",
       "      <td>37</td>\n",
       "      <td>0</td>\n",
       "    </tr>\n",
       "    <tr>\n",
       "      <th>406</th>\n",
       "      <td>4</td>\n",
       "      <td>115</td>\n",
       "      <td>72</td>\n",
       "      <td>20</td>\n",
       "      <td>79</td>\n",
       "      <td>28.9</td>\n",
       "      <td>0.376</td>\n",
       "      <td>46</td>\n",
       "      <td>1</td>\n",
       "    </tr>\n",
       "    <tr>\n",
       "      <th>446</th>\n",
       "      <td>1</td>\n",
       "      <td>100</td>\n",
       "      <td>72</td>\n",
       "      <td>12</td>\n",
       "      <td>70</td>\n",
       "      <td>25.3</td>\n",
       "      <td>0.658</td>\n",
       "      <td>28</td>\n",
       "      <td>0</td>\n",
       "    </tr>\n",
       "    <tr>\n",
       "      <th>460</th>\n",
       "      <td>9</td>\n",
       "      <td>120</td>\n",
       "      <td>72</td>\n",
       "      <td>22</td>\n",
       "      <td>56</td>\n",
       "      <td>20.8</td>\n",
       "      <td>0.733</td>\n",
       "      <td>48</td>\n",
       "      <td>0</td>\n",
       "    </tr>\n",
       "    <tr>\n",
       "      <th>488</th>\n",
       "      <td>4</td>\n",
       "      <td>99</td>\n",
       "      <td>72</td>\n",
       "      <td>17</td>\n",
       "      <td>79</td>\n",
       "      <td>25.6</td>\n",
       "      <td>0.294</td>\n",
       "      <td>28</td>\n",
       "      <td>0</td>\n",
       "    </tr>\n",
       "    <tr>\n",
       "      <th>497</th>\n",
       "      <td>2</td>\n",
       "      <td>81</td>\n",
       "      <td>72</td>\n",
       "      <td>15</td>\n",
       "      <td>76</td>\n",
       "      <td>30.1</td>\n",
       "      <td>0.547</td>\n",
       "      <td>25</td>\n",
       "      <td>0</td>\n",
       "    </tr>\n",
       "    <tr>\n",
       "      <th>510</th>\n",
       "      <td>12</td>\n",
       "      <td>84</td>\n",
       "      <td>72</td>\n",
       "      <td>31</td>\n",
       "      <td>79</td>\n",
       "      <td>29.7</td>\n",
       "      <td>0.297</td>\n",
       "      <td>46</td>\n",
       "      <td>1</td>\n",
       "    </tr>\n",
       "    <tr>\n",
       "      <th>568</th>\n",
       "      <td>4</td>\n",
       "      <td>154</td>\n",
       "      <td>72</td>\n",
       "      <td>29</td>\n",
       "      <td>126</td>\n",
       "      <td>31.3</td>\n",
       "      <td>0.338</td>\n",
       "      <td>37</td>\n",
       "      <td>0</td>\n",
       "    </tr>\n",
       "    <tr>\n",
       "      <th>615</th>\n",
       "      <td>3</td>\n",
       "      <td>106</td>\n",
       "      <td>72</td>\n",
       "      <td>20</td>\n",
       "      <td>79</td>\n",
       "      <td>25.8</td>\n",
       "      <td>0.207</td>\n",
       "      <td>27</td>\n",
       "      <td>0</td>\n",
       "    </tr>\n",
       "    <tr>\n",
       "      <th>635</th>\n",
       "      <td>13</td>\n",
       "      <td>104</td>\n",
       "      <td>72</td>\n",
       "      <td>20</td>\n",
       "      <td>79</td>\n",
       "      <td>31.2</td>\n",
       "      <td>0.465</td>\n",
       "      <td>38</td>\n",
       "      <td>1</td>\n",
       "    </tr>\n",
       "    <tr>\n",
       "      <th>644</th>\n",
       "      <td>3</td>\n",
       "      <td>103</td>\n",
       "      <td>72</td>\n",
       "      <td>30</td>\n",
       "      <td>152</td>\n",
       "      <td>27.6</td>\n",
       "      <td>0.730</td>\n",
       "      <td>27</td>\n",
       "      <td>0</td>\n",
       "    </tr>\n",
       "    <tr>\n",
       "      <th>717</th>\n",
       "      <td>10</td>\n",
       "      <td>94</td>\n",
       "      <td>72</td>\n",
       "      <td>18</td>\n",
       "      <td>79</td>\n",
       "      <td>23.1</td>\n",
       "      <td>0.595</td>\n",
       "      <td>56</td>\n",
       "      <td>0</td>\n",
       "    </tr>\n",
       "    <tr>\n",
       "      <th>765</th>\n",
       "      <td>5</td>\n",
       "      <td>121</td>\n",
       "      <td>72</td>\n",
       "      <td>23</td>\n",
       "      <td>112</td>\n",
       "      <td>26.2</td>\n",
       "      <td>0.245</td>\n",
       "      <td>30</td>\n",
       "      <td>0</td>\n",
       "    </tr>\n",
       "  </tbody>\n",
       "</table>\n",
       "</div>"
      ],
      "text/plain": [
       "     Pregnancies  Glucose  BloodPressure  SkinThickness  Insulin   BMI  \\\n",
       "14             5      166             72             19      175  25.8   \n",
       "93             4      134             72             20       79  23.8   \n",
       "103            1       81             72             18       40  26.6   \n",
       "205            5      111             72             28       79  23.9   \n",
       "299            8      112             72             20       79  23.6   \n",
       "325            1      157             72             21      168  25.6   \n",
       "330            8      118             72             19       79  23.1   \n",
       "366            6      124             72             20       79  27.6   \n",
       "380            1      107             72             30       82  30.8   \n",
       "393            4      116             72             12       87  22.1   \n",
       "406            4      115             72             20       79  28.9   \n",
       "446            1      100             72             12       70  25.3   \n",
       "460            9      120             72             22       56  20.8   \n",
       "488            4       99             72             17       79  25.6   \n",
       "497            2       81             72             15       76  30.1   \n",
       "510           12       84             72             31       79  29.7   \n",
       "568            4      154             72             29      126  31.3   \n",
       "615            3      106             72             20       79  25.8   \n",
       "635           13      104             72             20       79  31.2   \n",
       "644            3      103             72             30      152  27.6   \n",
       "717           10       94             72             18       79  23.1   \n",
       "765            5      121             72             23      112  26.2   \n",
       "\n",
       "     DiabetesPedigreeFunction  Age  Outcome  \n",
       "14                      0.587   51        1  \n",
       "93                      0.277   60        1  \n",
       "103                     0.283   24        0  \n",
       "205                     0.407   27        0  \n",
       "299                     0.840   58        0  \n",
       "325                     0.123   24        0  \n",
       "330                     1.476   46        0  \n",
       "366                     0.368   29        1  \n",
       "380                     0.821   24        0  \n",
       "393                     0.463   37        0  \n",
       "406                     0.376   46        1  \n",
       "446                     0.658   28        0  \n",
       "460                     0.733   48        0  \n",
       "488                     0.294   28        0  \n",
       "497                     0.547   25        0  \n",
       "510                     0.297   46        1  \n",
       "568                     0.338   37        0  \n",
       "615                     0.207   27        0  \n",
       "635                     0.465   38        1  \n",
       "644                     0.730   27        0  \n",
       "717                     0.595   56        0  \n",
       "765                     0.245   30        0  "
      ]
     },
     "execution_count": 15,
     "metadata": {},
     "output_type": "execute_result"
    }
   ],
   "source": [
    "# Remove _____ & write the appropriate column name\n",
    "\n",
    "pima[(pima['BloodPressure'] == pima['BloodPressure'].median()) & (pima['BMI'] < pima['BMI'].median())]"
   ]
  },
  {
   "cell_type": "markdown",
   "metadata": {
    "id": "KgU-UehX_bwF"
   },
   "source": [
    "#### Write your Answer here: \n"
   ]
  },
  {
   "cell_type": "markdown",
   "metadata": {
    "id": "-b8kksU3_bwF"
   },
   "source": [
    "Ans 14: 22 women"
   ]
  },
  {
   "cell_type": "markdown",
   "metadata": {
    "id": "O8KX8Nva_bwF"
   },
   "source": [
    "## Q15. Create a pairplot for the variables 'Glucose', 'SkinThickness', and 'DiabetesPedigreeFunction'. Write your observations from the plot. (3 Marks)"
   ]
  },
  {
   "cell_type": "code",
   "execution_count": 16,
   "metadata": {
    "id": "dDj12snn_bwG",
    "scrolled": true
   },
   "outputs": [
    {
     "data": {
      "image/png": "[encoded data removed]",
      "text/plain": [
       "<Figure size 591.375x540 with 12 Axes>"
      ]
     },
     "metadata": {
      "needs_background": "light"
     },
     "output_type": "display_data"
    }
   ],
   "source": [
    "# Remove _____ & write the appropriate function name\n",
    "\n",
    "sns.pairplot(data = pima, vars = ['Glucose', 'SkinThickness', 'DiabetesPedigreeFunction'], hue = 'Outcome')\n",
    "plt.show()"
   ]
  },
  {
   "cell_type": "markdown",
   "metadata": {
    "id": "S7CMbCwL_bwG"
   },
   "source": [
    "#### Write your Answer here: \n"
   ]
  },
  {
   "cell_type": "markdown",
   "metadata": {
    "id": "S2bPFIk9_bwG"
   },
   "source": [
    "Ans 15: The dots with outcome(1), which is a person with diabetes, have a tendecy being on the right side of the each plots compared to the dots with outcome(0). Especially, if Glucose level is high with outcome(1), the tendecy becomes significant. It seems other factors (SkinThickness and DiabetesPedigreeFunction) don't have strong tendacy as Glucose but still I can see they have also the tendecy."
   ]
  },
  {
   "cell_type": "markdown",
   "metadata": {
    "id": "pTzCIQOb_bwG"
   },
   "source": [
    "## Q16. Plot the scatterplot between 'Glucose' and 'Insulin'. Write your observations from the plot. (4 Marks)"
   ]
  },
  {
   "cell_type": "code",
   "execution_count": 17,
   "metadata": {
    "id": "CNHLuzOD_bwG",
    "scrolled": false
   },
   "outputs": [
    {
     "data": {
      "image/png": "[encoded data removed]",
      "text/plain": [
       "<Figure size 432x288 with 1 Axes>"
      ]
     },
     "metadata": {
      "needs_background": "light"
     },
     "output_type": "display_data"
    }
   ],
   "source": [
    "# Remove _____ & write the appropriate function name\n",
    "\n",
    "sns.scatterplot(x = 'Glucose', y = 'Insulin', data = pima)\n",
    "\n",
    "# In order to see if there is any correlation, I additionally put a regression line.\n",
    "sns.regplot(x = 'Glucose', y = 'Insulin', data = pima, scatter_kws={\"color\":\"blue\"},line_kws={\"color\":\"red\"})\n",
    "\n",
    "plt.show()"
   ]
  },
  {
   "cell_type": "markdown",
   "metadata": {
    "id": "1AhKhAbf_bwG"
   },
   "source": [
    "#### Write your Answer here: \n"
   ]
  },
  {
   "cell_type": "markdown",
   "metadata": {
    "id": "YScevRlr_bwG"
   },
   "source": [
    "Ans 16:\n",
    "The consecutive scatter dots, which looks like a line, is very unique. In generally, when Glucose is increasing, then Insulin level is also increasing. But this is not like that. So, this is notable that something is going on. It seems some women's Insulin doesn't increase when Glucose increase.\n",
    "However, other dots are scattered to rising to right. So, combining these 2 factors, there is a some positive correlation between Glucose and Insulin.\n",
    "\n",
    "Glucose and Insulin are moderately positively correlated since there is posivite regression line. (In order to the plot becomes more informative, I additionally put the regression line to see if there is any correlation because it was hard to see wihout a line. )"
   ]
  },
  {
   "cell_type": "markdown",
   "metadata": {
    "id": "NzGHKjXv_bwG"
   },
   "source": [
    "## Q 17. Plot the boxplot for the 'Age' variable. Are there outliers? (2 Marks)"
   ]
  },
  {
   "cell_type": "code",
   "execution_count": 18,
   "metadata": {
    "id": "zmWjERJM_bwH"
   },
   "outputs": [
    {
     "data": {
      "image/png": "[encoded data removed]",
      "text/plain": [
       "<Figure size 432x288 with 1 Axes>"
      ]
     },
     "metadata": {
      "needs_background": "light"
     },
     "output_type": "display_data"
    }
   ],
   "source": [
    "# Remove _____ & write the appropriate function and column name \n",
    "\n",
    "plt.boxplot(pima['Age'])\n",
    "\n",
    "plt.title('Boxplot of Age')\n",
    "plt.ylabel('Age')\n",
    "plt.show()"
   ]
  },
  {
   "cell_type": "markdown",
   "metadata": {
    "id": "Vm5bRpLz_bwH"
   },
   "source": [
    "#### Write your Answer here: \n"
   ]
  },
  {
   "cell_type": "markdown",
   "metadata": {
    "id": "ID7pFghO_bwH"
   },
   "source": [
    "Ans 17: Yes, there are outliers. They are over 60 years old."
   ]
  },
  {
   "cell_type": "markdown",
   "metadata": {
    "id": "M6A_z8kr_bwH"
   },
   "source": [
    "## Q18. Plot histograms for the 'Age' variable to understand the number of women in different age groups given whether they have diabetes or not. Explain both histograms and compare them. (5 Marks)"
   ]
  },
  {
   "cell_type": "code",
   "execution_count": 19,
   "metadata": {
    "id": "5DpqaiXH_bwH"
   },
   "outputs": [
    {
     "data": {
      "image/png": "[encoded data removed]",
      "text/plain": [
       "<Figure size 432x288 with 1 Axes>"
      ]
     },
     "metadata": {
      "needs_background": "light"
     },
     "output_type": "display_data"
    }
   ],
   "source": [
    "# Remove _____ & write the appropriate function and column name\n",
    "\n",
    "plt.hist(pima[pima['Outcome'] == 1]['Age'], bins = 5)\n",
    "plt.title('Distribution of Age for Women who has Diabetes')\n",
    "plt.xlabel('Age')\n",
    "plt.ylabel('Frequency')\n",
    "plt.show()"
   ]
  },
  {
   "cell_type": "code",
   "execution_count": 20,
   "metadata": {
    "id": "ultPz45S_bwH",
    "scrolled": true
   },
   "outputs": [
    {
     "data": {
      "image/png": "[encoded data removed]",
      "text/plain": [
       "<Figure size 432x288 with 1 Axes>"
      ]
     },
     "metadata": {
      "needs_background": "light"
     },
     "output_type": "display_data"
    }
   ],
   "source": [
    "# Remove _____ & write the appropriate function and column name\n",
    "\n",
    "plt.hist(pima[pima['Outcome'] == 0]['Age'], bins = 5)\n",
    "plt.title('Distribution of Age for Women who do not have Diabetes')\n",
    "plt.xlabel('Age')\n",
    "plt.ylabel('Frequency')\n",
    "plt.show()"
   ]
  },
  {
   "cell_type": "markdown",
   "metadata": {
    "id": "InfhuW8o_bwH"
   },
   "source": [
    "#### Write your Answer here: \n"
   ]
  },
  {
   "cell_type": "markdown",
   "metadata": {
    "id": "D6iAgeF-_bwI"
   },
   "source": [
    "Ans 18: \n",
    "In the plot with the women who has diabates, the younger age groups are more women become diabates than the older age group. Especially, the age group 21-30 yeas old is the highest number of women with diabates.\n",
    "\n",
    "In the plot with the women who don't have diabates, the age group 21-33 yeas old is the highest number of women. The number of the age group 33-45 becomes approximately 25% of the number of the age group 21-33. As they getting older and older, the total number of the each age group reduces.\n",
    "\n",
    "The women who has diabates are existing all of the age groups compared to the women who don't have it. Especially, when they are young age between 21-30 years old, many of them become diabates.\n",
    "\n",
    "Comparing both plots, in the age group 21-30, the percent of the women who has diabates seems lower than other age groups because the total number is larger than other age groups.\n",
    "The age group 21-30: women with diabate 90 / women wihout diabate 350 = 0.2571\n",
    "The age group 31-40 (33-45.aprx): women with diabate 75 / women wihout diabate 90 = 0.8333\n",
    "\n",
    "Comparing both plots, After 30 years old, many of the women has diabates compared to the range of 21-30 years old and also the total number after 30 years old of both plots are decreasing as they get older. That means a lot of the women already died as they get older."
   ]
  },
  {
   "cell_type": "markdown",
   "metadata": {
    "id": "EpTEjZ-q_bwI"
   },
   "source": [
    "## Q 19. What is the Interquartile Range of all the variables? Why is this used? Which plot visualizes the same? (5 Marks)"
   ]
  },
  {
   "cell_type": "code",
   "execution_count": 21,
   "metadata": {
    "id": "JVOqHx1W_bwI"
   },
   "outputs": [
    {
     "name": "stdout",
     "output_type": "stream",
     "text": [
      "Pregnancies                  5.0000\n",
      "Glucose                     40.5000\n",
      "BloodPressure               16.0000\n",
      "SkinThickness               12.0000\n",
      "Insulin                     48.2500\n",
      "BMI                          9.1000\n",
      "DiabetesPedigreeFunction     0.3825\n",
      "Age                         17.0000\n",
      "Outcome                      1.0000\n",
      "dtype: float64\n"
     ]
    }
   ],
   "source": [
    "# Remove _____ & write the appropriate variable name\n",
    "\n",
    "Q1 = pima.quantile(0.25)\n",
    "Q3 = pima.quantile(0.75)\n",
    "IQR = Q3 - Q1\n",
    "print(IQR)"
   ]
  },
  {
   "cell_type": "markdown",
   "metadata": {
    "id": "WWtc2nex_bwI"
   },
   "source": [
    "#### Write your Answer here: \n"
   ]
  },
  {
   "cell_type": "markdown",
   "metadata": {
    "id": "2vLWPyd-_bwI"
   },
   "source": [
    "Ans 19:　Interquartile Range covers the middle 50% of the data set.The difference is between the first quartile and third quartile which mentions how far apart the first and third quartile are. It indicates how spread out the middle 50% of the data set is.\n",
    "It is used for figuring out how much the data disperses in the data set. It informs whether there is a mild or strong outlier as well.\n",
    "Box plot is used for the same purpose of interquartile Range in term of the visualization."
   ]
  },
  {
   "cell_type": "markdown",
   "metadata": {
    "id": "KjldKKMs_bwI"
   },
   "source": [
    "## Q 20. Find and visualize the correlation matrix. Write your observations from the plot. (3 Marks)"
   ]
  },
  {
   "cell_type": "code",
   "execution_count": 22,
   "metadata": {
    "id": "dvBVRRM8_bwI"
   },
   "outputs": [
    {
     "data": {
      "text/html": [
       "<div>\n",
       "<style scoped>\n",
       "    .dataframe tbody tr th:only-of-type {\n",
       "        vertical-align: middle;\n",
       "    }\n",
       "\n",
       "    .dataframe tbody tr th {\n",
       "        vertical-align: top;\n",
       "    }\n",
       "\n",
       "    .dataframe thead th {\n",
       "        text-align: right;\n",
       "    }\n",
       "</style>\n",
       "<table border=\"1\" class=\"dataframe\">\n",
       "  <thead>\n",
       "    <tr style=\"text-align: right;\">\n",
       "      <th></th>\n",
       "      <th>Pregnancies</th>\n",
       "      <th>Glucose</th>\n",
       "      <th>BloodPressure</th>\n",
       "      <th>SkinThickness</th>\n",
       "      <th>Insulin</th>\n",
       "      <th>BMI</th>\n",
       "      <th>DiabetesPedigreeFunction</th>\n",
       "      <th>Age</th>\n",
       "    </tr>\n",
       "  </thead>\n",
       "  <tbody>\n",
       "    <tr>\n",
       "      <th>Pregnancies</th>\n",
       "      <td>1.000000</td>\n",
       "      <td>0.128022</td>\n",
       "      <td>0.208987</td>\n",
       "      <td>0.009393</td>\n",
       "      <td>-0.018780</td>\n",
       "      <td>0.021546</td>\n",
       "      <td>-0.033523</td>\n",
       "      <td>0.544341</td>\n",
       "    </tr>\n",
       "    <tr>\n",
       "      <th>Glucose</th>\n",
       "      <td>0.128022</td>\n",
       "      <td>1.000000</td>\n",
       "      <td>0.219765</td>\n",
       "      <td>0.158060</td>\n",
       "      <td>0.396137</td>\n",
       "      <td>0.231464</td>\n",
       "      <td>0.137158</td>\n",
       "      <td>0.266673</td>\n",
       "    </tr>\n",
       "    <tr>\n",
       "      <th>BloodPressure</th>\n",
       "      <td>0.208987</td>\n",
       "      <td>0.219765</td>\n",
       "      <td>1.000000</td>\n",
       "      <td>0.130403</td>\n",
       "      <td>0.010492</td>\n",
       "      <td>0.281222</td>\n",
       "      <td>0.000471</td>\n",
       "      <td>0.326791</td>\n",
       "    </tr>\n",
       "    <tr>\n",
       "      <th>SkinThickness</th>\n",
       "      <td>0.009393</td>\n",
       "      <td>0.158060</td>\n",
       "      <td>0.130403</td>\n",
       "      <td>1.000000</td>\n",
       "      <td>0.245410</td>\n",
       "      <td>0.532552</td>\n",
       "      <td>0.157196</td>\n",
       "      <td>0.020582</td>\n",
       "    </tr>\n",
       "    <tr>\n",
       "      <th>Insulin</th>\n",
       "      <td>-0.018780</td>\n",
       "      <td>0.396137</td>\n",
       "      <td>0.010492</td>\n",
       "      <td>0.245410</td>\n",
       "      <td>1.000000</td>\n",
       "      <td>0.189919</td>\n",
       "      <td>0.158243</td>\n",
       "      <td>0.037676</td>\n",
       "    </tr>\n",
       "    <tr>\n",
       "      <th>BMI</th>\n",
       "      <td>0.021546</td>\n",
       "      <td>0.231464</td>\n",
       "      <td>0.281222</td>\n",
       "      <td>0.532552</td>\n",
       "      <td>0.189919</td>\n",
       "      <td>1.000000</td>\n",
       "      <td>0.153508</td>\n",
       "      <td>0.025748</td>\n",
       "    </tr>\n",
       "    <tr>\n",
       "      <th>DiabetesPedigreeFunction</th>\n",
       "      <td>-0.033523</td>\n",
       "      <td>0.137158</td>\n",
       "      <td>0.000471</td>\n",
       "      <td>0.157196</td>\n",
       "      <td>0.158243</td>\n",
       "      <td>0.153508</td>\n",
       "      <td>1.000000</td>\n",
       "      <td>0.033561</td>\n",
       "    </tr>\n",
       "    <tr>\n",
       "      <th>Age</th>\n",
       "      <td>0.544341</td>\n",
       "      <td>0.266673</td>\n",
       "      <td>0.326791</td>\n",
       "      <td>0.020582</td>\n",
       "      <td>0.037676</td>\n",
       "      <td>0.025748</td>\n",
       "      <td>0.033561</td>\n",
       "      <td>1.000000</td>\n",
       "    </tr>\n",
       "  </tbody>\n",
       "</table>\n",
       "</div>"
      ],
      "text/plain": [
       "                          Pregnancies   Glucose  BloodPressure  SkinThickness  \\\n",
       "Pregnancies                  1.000000  0.128022       0.208987       0.009393   \n",
       "Glucose                      0.128022  1.000000       0.219765       0.158060   \n",
       "BloodPressure                0.208987  0.219765       1.000000       0.130403   \n",
       "SkinThickness                0.009393  0.158060       0.130403       1.000000   \n",
       "Insulin                     -0.018780  0.396137       0.010492       0.245410   \n",
       "BMI                          0.021546  0.231464       0.281222       0.532552   \n",
       "DiabetesPedigreeFunction    -0.033523  0.137158       0.000471       0.157196   \n",
       "Age                          0.544341  0.266673       0.326791       0.020582   \n",
       "\n",
       "                           Insulin       BMI  DiabetesPedigreeFunction  \\\n",
       "Pregnancies              -0.018780  0.021546                 -0.033523   \n",
       "Glucose                   0.396137  0.231464                  0.137158   \n",
       "BloodPressure             0.010492  0.281222                  0.000471   \n",
       "SkinThickness             0.245410  0.532552                  0.157196   \n",
       "Insulin                   1.000000  0.189919                  0.158243   \n",
       "BMI                       0.189919  1.000000                  0.153508   \n",
       "DiabetesPedigreeFunction  0.158243  0.153508                  1.000000   \n",
       "Age                       0.037676  0.025748                  0.033561   \n",
       "\n",
       "                               Age  \n",
       "Pregnancies               0.544341  \n",
       "Glucose                   0.266673  \n",
       "BloodPressure             0.326791  \n",
       "SkinThickness             0.020582  \n",
       "Insulin                   0.037676  \n",
       "BMI                       0.025748  \n",
       "DiabetesPedigreeFunction  0.033561  \n",
       "Age                       1.000000  "
      ]
     },
     "execution_count": 22,
     "metadata": {},
     "output_type": "execute_result"
    }
   ],
   "source": [
    "# Remove _____ & write the appropriate function name and run the code\n",
    "\n",
    "corr_matrix = pima.iloc[ : ,0 : 8].corr()\n",
    "\n",
    "corr_matrix"
   ]
  },
  {
   "cell_type": "code",
   "execution_count": 23,
   "metadata": {
    "id": "Ju8Gymxw_bwJ"
   },
   "outputs": [
    {
     "data": {
      "image/png": "[encoded data removed]",
      "text/plain": [
       "<Figure size 576x576 with 2 Axes>"
      ]
     },
     "metadata": {
      "needs_background": "light"
     },
     "output_type": "display_data"
    }
   ],
   "source": [
    "# Remove _____ & write the appropriate function name\n",
    "\n",
    "plt.figure(figsize = (8, 8))\n",
    "sns.heatmap(corr_matrix, annot = True)\n",
    "\n",
    "# Display the plot\n",
    "plt.show()"
   ]
  },
  {
   "cell_type": "markdown",
   "metadata": {
    "id": "Woaq6vqT_bwJ"
   },
   "source": [
    "#### Write your Answer here: \n"
   ]
  },
  {
   "cell_type": "markdown",
   "metadata": {
    "id": "m3AKvSrM_bwJ"
   },
   "source": [
    "Ans 20: \n",
    "In the heatmap, if the sections are colors with bright, there is more strong correlation compared to the sections with dark colors. \n",
    "There is 0.54 correlation between Pregnancies and Age. This is positive correlation moderately. \n",
    "Also, there is a moderate positive correlation between BMI and SkinThickness as 0.53. \n",
    "Between Glucose and Insulin, the correlation is 0.4 which is a some (not weak but not strong) correlation. \n",
    "Between Age and BoloodPressure, the correlation is 0.33 which is a little weak correlation.\n",
    "Between Age and Glucose, the correlation is 0.27 which is a little weak correlation.\n",
    "Between BMI and BoloodPressure, the correlation is 0.28 which is a little weak correlation."
   ]
  }
 ],
 "metadata": {
  "colab": {
   "collapsed_sections": [
    "5_7DfrKa_bv_",
    "V5duvKqA_bv_",
    "oILSLGBL_bwA",
    "DyG29Cqz_bwA",
    "OqnMczju_bwB",
    "wHYJkmek_bwB",
    "CpcpowUT_bwC",
    "RmTpaojz_bwC",
    "-aYGSoyf_bwC",
    "3gO4yNoS_bwD",
    "tFmj2sAi_bwD",
    "H82v-Oiq_bwD",
    "JiUByWjP_bwE",
    "0xN_VJOl_bwE",
    "F381SOUJ_bwE",
    "zQgUfx28_bwE",
    "zNopQzBy_bwF",
    "TUFPGMGX_bwF",
    "KgU-UehX_bwF",
    "O8KX8Nva_bwF",
    "S7CMbCwL_bwG",
    "pTzCIQOb_bwG",
    "1AhKhAbf_bwG",
    "NzGHKjXv_bwG",
    "Vm5bRpLz_bwH",
    "M6A_z8kr_bwH",
    "InfhuW8o_bwH",
    "EpTEjZ-q_bwI",
    "WWtc2nex_bwI",
    "KjldKKMs_bwI",
    "Woaq6vqT_bwJ"
   ],
   "name": "MIT_FDS_Project_Diabetes_Analysis_Questions-1.ipynb",
   "provenance": []
  },
  "kernelspec": {
   "display_name": "Python 3",
   "language": "python",
   "name": "python3"
  },
  "language_info": {
   "codemirror_mode": {
    "name": "ipython",
    "version": 3
   },
   "file_extension": ".py",
   "mimetype": "text/x-python",
   "name": "python",
   "nbconvert_exporter": "python",
   "pygments_lexer": "ipython3",
   "version": "3.8.5"
  },
  "toc": {
   "base_numbering": 1,
   "nav_menu": {},
   "number_sections": true,
   "sideBar": true,
   "skip_h1_title": false,
   "title_cell": "Table of Contents",
   "title_sidebar": "Contents",
   "toc_cell": false,
   "toc_position": {},
   "toc_section_display": true,
   "toc_window_display": false
  },
  "varInspector": {
   "cols": {
    "lenName": 16,
    "lenType": 16,
    "lenVar": 40
   },
   "kernels_config": {
    "python": {
     "delete_cmd_postfix": "",
     "delete_cmd_prefix": "del ",
     "library": "var_list.py",
     "varRefreshCmd": "print(var_dic_list())"
    },
    "r": {
     "delete_cmd_postfix": ") ",
     "delete_cmd_prefix": "rm(",
     "library": "var_list.r",
     "varRefreshCmd": "cat(var_dic_list()) "
    }
   },
   "types_to_exclude": [
    "module",
    "function",
    "builtin_function_or_method",
    "instance",
    "_Feature"
   ],
   "window_display": false
  }
 },
 "nbformat": 4,
 "nbformat_minor": 1
}
